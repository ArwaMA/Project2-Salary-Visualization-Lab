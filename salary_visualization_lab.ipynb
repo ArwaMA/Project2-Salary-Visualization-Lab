{
 "cells": [
  {
   "cell_type": "markdown",
   "metadata": {},
   "source": [
    "# Plotting Lab"
   ]
  },
  {
   "cell_type": "markdown",
   "metadata": {},
   "source": [
    "In the `datasets/` folder in this notebook you will find the `salary` dataset.\n",
    "\n",
    "- `salary.csv` -- a dataset comparing salary data across gender and tenure lines for academics \n",
    "\n",
    "Your task is to use Matplotlib and Seaborn to create high-quality plots for this dataset. \n",
    "\n",
    "**Your deliverable for this lab is to push a completed version to your Github Enterprise account by Sunday. This is a required homework assignment.**\n",
    "\n",
    "Part of effective data science work is to be able to take new datasets and investigate them for interesting correlations or relationships that might be the basis of future research or investigation. Take this lab as an opportunity to practice those skills as well and how plotting can help you in that goal!\n",
    "\n",
    "##### Useful Workflow Tips\n",
    "\n",
    "1. Open the data and do a quick EDA:\n",
    "  - How many rows and columns?\n",
    "  - Is there missing data?\n",
    "  - What do each of the columns mean?\n",
    "    - Sometimes it may not be clear at first glance so double check\n",
    "    - **Googling for some insight into that domain (such as salary information for the academic world) is not just highly encouraged, but may be 100% required in some cases**\n",
    "  - At first glance, are there columns that you think might have an interesting relationship?\n",
    "2. Begin plotting:\n",
    "  - Use something like seaborn's pairplot to visualize overall relationships\n",
    "  - Start digging into bivariate (involving or depending on two variables) relationships\n",
    "  - If a variable of interest is encoded as a string, perform a Pandas method to convert it into numeric values, if possible.\n",
    "3. Refine plots:\n",
    "  - Try different plotting types / plotting options to create accurate, interesting, and engaging plots\n",
    "  - Remember to include titles, axes labels, etc.\n",
    "  - **Does your plot have a story? What should a reader take away from your plots?**"
   ]
  },
  {
   "cell_type": "code",
   "execution_count": 29,
   "metadata": {},
   "outputs": [],
   "source": [
    "import numpy as np\n",
    "import pandas as pd\n",
    "import matplotlib.pyplot as plt\n",
    "import seaborn as sns\n",
    "plt.style.use('fivethirtyeight')\n",
    "%matplotlib inline"
   ]
  },
  {
   "cell_type": "markdown",
   "metadata": {},
   "source": [
    "# Salary"
   ]
  },
  {
   "cell_type": "code",
   "execution_count": 30,
   "metadata": {
    "scrolled": false
   },
   "outputs": [
    {
     "data": {
      "text/html": [
       "<div>\n",
       "<style scoped>\n",
       "    .dataframe tbody tr th:only-of-type {\n",
       "        vertical-align: middle;\n",
       "    }\n",
       "\n",
       "    .dataframe tbody tr th {\n",
       "        vertical-align: top;\n",
       "    }\n",
       "\n",
       "    .dataframe thead th {\n",
       "        text-align: right;\n",
       "    }\n",
       "</style>\n",
       "<table border=\"1\" class=\"dataframe\">\n",
       "  <thead>\n",
       "    <tr style=\"text-align: right;\">\n",
       "      <th></th>\n",
       "      <th>sx</th>\n",
       "      <th>rk</th>\n",
       "      <th>yr</th>\n",
       "      <th>dg</th>\n",
       "      <th>yd</th>\n",
       "      <th>sl</th>\n",
       "    </tr>\n",
       "  </thead>\n",
       "  <tbody>\n",
       "    <tr>\n",
       "      <th>0</th>\n",
       "      <td>male</td>\n",
       "      <td>full</td>\n",
       "      <td>25</td>\n",
       "      <td>doctorate</td>\n",
       "      <td>35</td>\n",
       "      <td>36350</td>\n",
       "    </tr>\n",
       "    <tr>\n",
       "      <th>1</th>\n",
       "      <td>male</td>\n",
       "      <td>full</td>\n",
       "      <td>13</td>\n",
       "      <td>doctorate</td>\n",
       "      <td>22</td>\n",
       "      <td>35350</td>\n",
       "    </tr>\n",
       "    <tr>\n",
       "      <th>2</th>\n",
       "      <td>male</td>\n",
       "      <td>full</td>\n",
       "      <td>10</td>\n",
       "      <td>doctorate</td>\n",
       "      <td>23</td>\n",
       "      <td>28200</td>\n",
       "    </tr>\n",
       "    <tr>\n",
       "      <th>3</th>\n",
       "      <td>female</td>\n",
       "      <td>full</td>\n",
       "      <td>7</td>\n",
       "      <td>doctorate</td>\n",
       "      <td>27</td>\n",
       "      <td>26775</td>\n",
       "    </tr>\n",
       "    <tr>\n",
       "      <th>4</th>\n",
       "      <td>male</td>\n",
       "      <td>full</td>\n",
       "      <td>19</td>\n",
       "      <td>masters</td>\n",
       "      <td>30</td>\n",
       "      <td>33696</td>\n",
       "    </tr>\n",
       "  </tbody>\n",
       "</table>\n",
       "</div>"
      ],
      "text/plain": [
       "       sx    rk  yr         dg  yd     sl\n",
       "0    male  full  25  doctorate  35  36350\n",
       "1    male  full  13  doctorate  22  35350\n",
       "2    male  full  10  doctorate  23  28200\n",
       "3  female  full   7  doctorate  27  26775\n",
       "4    male  full  19    masters  30  33696"
      ]
     },
     "execution_count": 30,
     "metadata": {},
     "output_type": "execute_result"
    }
   ],
   "source": [
    "salary = pd.read_csv('datasets/salary.csv')\n",
    "salary.head()"
   ]
  },
  {
   "cell_type": "markdown",
   "metadata": {},
   "source": [
    "- `sx` -> sex (gender)\n",
    "- `rk` -> rank (full, associate, assistant)\n",
    "- `yr` -> years of service or years in field\n",
    "- `dg` -> last degree earned\n",
    "- `yd` -> years since degree\n",
    "- `sl` -> salary"
   ]
  },
  {
   "cell_type": "markdown",
   "metadata": {},
   "source": [
    "#### `1. How many rows and columns?`"
   ]
  },
  {
   "cell_type": "code",
   "execution_count": 31,
   "metadata": {},
   "outputs": [
    {
     "data": {
      "text/plain": [
       "(57, 6)"
      ]
     },
     "execution_count": 31,
     "metadata": {},
     "output_type": "execute_result"
    }
   ],
   "source": [
    "# 57 rows and 6 columns\n",
    "salary.shape"
   ]
  },
  {
   "cell_type": "markdown",
   "metadata": {},
   "source": [
    "#### `2. Check for missing values. Address if needed.`"
   ]
  },
  {
   "cell_type": "code",
   "execution_count": 32,
   "metadata": {},
   "outputs": [
    {
     "data": {
      "text/plain": [
       "sx    0\n",
       "rk    0\n",
       "yr    0\n",
       "dg    0\n",
       "yd    0\n",
       "sl    0\n",
       "dtype: int64"
      ]
     },
     "execution_count": 32,
     "metadata": {},
     "output_type": "execute_result"
    }
   ],
   "source": [
    "salary.isnull().sum()"
   ]
  },
  {
   "cell_type": "markdown",
   "metadata": {},
   "source": [
    "#### `3. Review datatypes for each column in your dataframe. Per the instructions above, convert any as needed.`"
   ]
  },
  {
   "cell_type": "code",
   "execution_count": 33,
   "metadata": {},
   "outputs": [
    {
     "data": {
      "text/plain": [
       "sx    object\n",
       "rk    object\n",
       "yr     int64\n",
       "dg    object\n",
       "yd     int64\n",
       "sl     int64\n",
       "dtype: object"
      ]
     },
     "execution_count": 33,
     "metadata": {},
     "output_type": "execute_result"
    }
   ],
   "source": [
    "salary.dtypes"
   ]
  },
  {
   "cell_type": "markdown",
   "metadata": {},
   "source": [
    "#### `4. Visualize the distributions of the series or columns in your dataframe.`\n",
    "- `What type or types of plots are most appropriate here?`\n",
    "- `What variables are categorical (labels)?`\n",
    "- `Which are continuous?`\n",
    "- `Are any ordinal?`"
   ]
  },
  {
   "cell_type": "markdown",
   "metadata": {},
   "source": [
    "#### `4a. What type or types of plots are most appropriate here?`"
   ]
  },
  {
   "cell_type": "markdown",
   "metadata": {},
   "source": [
    "**For numerical variables:** years of service (yr), years since last degree (yd), and salary (sl), it's most appropriate to use histograms and/or boxplots. Below are distributions of all the three variables using histograms and boxplots."
   ]
  },
  {
   "cell_type": "code",
   "execution_count": 34,
   "metadata": {},
   "outputs": [
    {
     "data": {
      "text/html": [
       "<div>\n",
       "<style scoped>\n",
       "    .dataframe tbody tr th:only-of-type {\n",
       "        vertical-align: middle;\n",
       "    }\n",
       "\n",
       "    .dataframe tbody tr th {\n",
       "        vertical-align: top;\n",
       "    }\n",
       "\n",
       "    .dataframe thead th {\n",
       "        text-align: right;\n",
       "    }\n",
       "</style>\n",
       "<table border=\"1\" class=\"dataframe\">\n",
       "  <thead>\n",
       "    <tr style=\"text-align: right;\">\n",
       "      <th></th>\n",
       "      <th>yr</th>\n",
       "      <th>yd</th>\n",
       "      <th>sl</th>\n",
       "    </tr>\n",
       "  </thead>\n",
       "  <tbody>\n",
       "    <tr>\n",
       "      <th>count</th>\n",
       "      <td>57.000000</td>\n",
       "      <td>57.000000</td>\n",
       "      <td>57.000000</td>\n",
       "    </tr>\n",
       "    <tr>\n",
       "      <th>mean</th>\n",
       "      <td>7.280702</td>\n",
       "      <td>15.912281</td>\n",
       "      <td>24037.771930</td>\n",
       "    </tr>\n",
       "    <tr>\n",
       "      <th>std</th>\n",
       "      <td>5.351083</td>\n",
       "      <td>9.901805</td>\n",
       "      <td>5719.879566</td>\n",
       "    </tr>\n",
       "    <tr>\n",
       "      <th>min</th>\n",
       "      <td>0.000000</td>\n",
       "      <td>1.000000</td>\n",
       "      <td>15000.000000</td>\n",
       "    </tr>\n",
       "    <tr>\n",
       "      <th>25%</th>\n",
       "      <td>3.000000</td>\n",
       "      <td>7.000000</td>\n",
       "      <td>19175.000000</td>\n",
       "    </tr>\n",
       "    <tr>\n",
       "      <th>50%</th>\n",
       "      <td>7.000000</td>\n",
       "      <td>15.000000</td>\n",
       "      <td>24675.000000</td>\n",
       "    </tr>\n",
       "    <tr>\n",
       "      <th>75%</th>\n",
       "      <td>10.000000</td>\n",
       "      <td>23.000000</td>\n",
       "      <td>27600.000000</td>\n",
       "    </tr>\n",
       "    <tr>\n",
       "      <th>max</th>\n",
       "      <td>25.000000</td>\n",
       "      <td>35.000000</td>\n",
       "      <td>38045.000000</td>\n",
       "    </tr>\n",
       "  </tbody>\n",
       "</table>\n",
       "</div>"
      ],
      "text/plain": [
       "              yr         yd            sl\n",
       "count  57.000000  57.000000     57.000000\n",
       "mean    7.280702  15.912281  24037.771930\n",
       "std     5.351083   9.901805   5719.879566\n",
       "min     0.000000   1.000000  15000.000000\n",
       "25%     3.000000   7.000000  19175.000000\n",
       "50%     7.000000  15.000000  24675.000000\n",
       "75%    10.000000  23.000000  27600.000000\n",
       "max    25.000000  35.000000  38045.000000"
      ]
     },
     "execution_count": 34,
     "metadata": {},
     "output_type": "execute_result"
    }
   ],
   "source": [
    "# But first we will describe the variables\n",
    "salary.describe()"
   ]
  },
  {
   "cell_type": "markdown",
   "metadata": {},
   "source": [
    "#### Histograms:"
   ]
  },
  {
   "cell_type": "code",
   "execution_count": 35,
   "metadata": {},
   "outputs": [
    {
     "data": {
      "image/png": "[encoded data removed]",
      "text/plain": [
       "<Figure size 432x288 with 1 Axes>"
      ]
     },
     "metadata": {
      "needs_background": "light"
     },
     "output_type": "display_data"
    }
   ],
   "source": [
    "# Histogram of Academics Years of Service Distibution\n",
    "bins = salary.yr.plot(kind='hist', bins=15, facecolor='blue', alpha=0.5, edgecolor='black', linewidth=0.75);\n",
    "plt.xlabel('Years of Service');\n",
    "plt.ylabel('Frequency');\n",
    "plt.title('Academics Years of Service Distibution', color = 'black',fontsize = 12);"
   ]
  },
  {
   "cell_type": "code",
   "execution_count": 36,
   "metadata": {},
   "outputs": [
    {
     "data": {
      "image/png": "[encoded data removed]",
      "text/plain": [
       "<Figure size 432x288 with 1 Axes>"
      ]
     },
     "metadata": {
      "needs_background": "light"
     },
     "output_type": "display_data"
    }
   ],
   "source": [
    "# Histogram of Academics Years since Last Degree Distibution\n",
    "bins = salary.yd.plot(kind='hist', bins=20, facecolor='blue', alpha=0.5, edgecolor='black', linewidth=0.75);\n",
    "plt.xlabel('Years since Last Degree');\n",
    "plt.ylabel('Frequency');\n",
    "plt.title('Academics Years since Last Degree Distibution', color = 'black',fontsize = 12);"
   ]
  },
  {
   "cell_type": "code",
   "execution_count": 37,
   "metadata": {},
   "outputs": [
    {
     "data": {
      "image/png": "[encoded data removed]",
      "text/plain": [
       "<Figure size 432x288 with 1 Axes>"
      ]
     },
     "metadata": {
      "needs_background": "light"
     },
     "output_type": "display_data"
    }
   ],
   "source": [
    "# Histogram of Academics Salary Distibution\n",
    "bins = salary.sl.plot(kind='hist', bins=20, facecolor='blue', alpha=0.5, edgecolor='black', linewidth=0.75);\n",
    "plt.xlabel('Slary');\n",
    "plt.ylabel('Frequency');\n",
    "plt.title('Academics Salary Distibution', color = 'black',fontsize = 12);"
   ]
  },
  {
   "cell_type": "code",
   "execution_count": 38,
   "metadata": {},
   "outputs": [
    {
     "data": {
      "image/png": "[encoded data removed]",
      "text/plain": [
       "<Figure size 1152x576 with 4 Axes>"
      ]
     },
     "metadata": {
      "needs_background": "light"
     },
     "output_type": "display_data"
    }
   ],
   "source": [
    "# To show distibutions of all numerical values, we can use a histogram over dataset\n",
    "salary.hist(bins=20, figsize=(16,8), facecolor='blue', alpha=0.5, edgecolor='black');"
   ]
  },
  {
   "cell_type": "markdown",
   "metadata": {},
   "source": [
    "#### Box ploting:"
   ]
  },
  {
   "cell_type": "code",
   "execution_count": 39,
   "metadata": {},
   "outputs": [
    {
     "data": {
      "image/png": "[encoded data removed]",
      "text/plain": [
       "<Figure size 432x288 with 1 Axes>"
      ]
     },
     "metadata": {
      "needs_background": "light"
     },
     "output_type": "display_data"
    }
   ],
   "source": [
    "# Visualizing all numerical variables using boxplots\n",
    "salary.boxplot();"
   ]
  },
  {
   "cell_type": "code",
   "execution_count": 40,
   "metadata": {},
   "outputs": [
    {
     "data": {
      "image/png": "[encoded data removed]",
      "text/plain": [
       "<Figure size 432x288 with 1 Axes>"
      ]
     },
     "metadata": {
      "needs_background": "light"
     },
     "output_type": "display_data"
    }
   ],
   "source": [
    "# import standard scaler\n",
    "from sklearn.preprocessing import StandardScaler\n",
    "\n",
    "# iniate it\n",
    "s = StandardScaler()\n",
    "\n",
    "# use stander scaler to get standrised values for all columns\n",
    "temp = s.fit_transform(salary[salary.describe().columns])\n",
    "\n",
    "# re create the data frame contain only numeric variables and standrised \n",
    "temp = pd.DataFrame(s.fit_transform(salary[salary.describe().columns]) , columns= salary.describe().columns)\n",
    "\n",
    "# Boxplot of Distibution of all numeric columns\n",
    "sns.boxplot(data = temp);\n",
    "plt.xlabel('Numeric columns');\n",
    "plt.ylabel('Frequency');\n",
    "plt.title('Distibution of all numeric columns', color = 'black',fontsize = 12);"
   ]
  },
  {
   "cell_type": "markdown",
   "metadata": {},
   "source": [
    "However it's not a good representaion here as the numbers in the three variables have different ranges. To better see the distribution using box plot, we will draw each one separately."
   ]
  },
  {
   "cell_type": "code",
   "execution_count": 41,
   "metadata": {},
   "outputs": [
    {
     "data": {
      "image/png": "[encoded data removed]",
      "text/plain": [
       "<Figure size 432x288 with 1 Axes>"
      ]
     },
     "metadata": {
      "needs_background": "light"
     },
     "output_type": "display_data"
    }
   ],
   "source": [
    "# Boxplot of Academics Years of Service Distibution\n",
    "salary.yr.plot(kind='box');\n",
    "plt.xlabel('Years of Service');\n",
    "plt.ylabel('Frequency');\n",
    "plt.title('Academics Years of Service Distibution', color = 'black',fontsize = 12);"
   ]
  },
  {
   "cell_type": "code",
   "execution_count": 42,
   "metadata": {},
   "outputs": [
    {
     "data": {
      "image/png": "[encoded data removed]",
      "text/plain": [
       "<Figure size 432x288 with 1 Axes>"
      ]
     },
     "metadata": {
      "needs_background": "light"
     },
     "output_type": "display_data"
    }
   ],
   "source": [
    "# Boxplot of Academics Years since Last Degree Distibution\n",
    "salary.yd.plot(kind='box');\n",
    "plt.xlabel('Years since Last Degree');\n",
    "plt.ylabel('Frequency');\n",
    "plt.title('Academics Years since Last Degree Distibution', color = 'black',fontsize = 12);"
   ]
  },
  {
   "cell_type": "code",
   "execution_count": 43,
   "metadata": {},
   "outputs": [
    {
     "data": {
      "image/png": "[encoded data removed]",
      "text/plain": [
       "<Figure size 432x288 with 1 Axes>"
      ]
     },
     "metadata": {
      "needs_background": "light"
     },
     "output_type": "display_data"
    }
   ],
   "source": [
    "# Boxplot of Academics Salary Distibution\n",
    "salary.sl.plot(kind='box');\n",
    "plt.xlabel('Salary');\n",
    "plt.ylabel('Frequency');\n",
    "plt.title('Academics Salary Distibution', color = 'black',fontsize = 12);"
   ]
  },
  {
   "cell_type": "markdown",
   "metadata": {},
   "source": [
    "#### `4b. What variables are categorical (labels)?`"
   ]
  },
  {
   "cell_type": "markdown",
   "metadata": {},
   "source": [
    "Sex, rank, and last degree earned are three categorical variables in the dataset."
   ]
  },
  {
   "cell_type": "code",
   "execution_count": 44,
   "metadata": {},
   "outputs": [
    {
     "name": "stdout",
     "output_type": "stream",
     "text": [
      "Academics genders:\n",
      "male      42\n",
      "female    15\n",
      "Name: sx, dtype: int64 \n",
      "\n",
      "Academics Ranks:\n",
      "full         22\n",
      "assistant    18\n",
      "associate    17\n",
      "Name: rk, dtype: int64 \n",
      "\n",
      "Academics Degrees:\n",
      "doctorate    37\n",
      "masters      20\n",
      "Name: dg, dtype: int64\n"
     ]
    }
   ],
   "source": [
    "# Understand the categrical variables\n",
    "print(\"Academics genders:\")\n",
    "print(salary.sx.value_counts(),\"\\n\")\n",
    "print(\"Academics Ranks:\")\n",
    "print(salary.rk.value_counts(), \"\\n\")\n",
    "print(\"Academics Degrees:\")\n",
    "print(salary.dg.value_counts())"
   ]
  },
  {
   "cell_type": "code",
   "execution_count": 45,
   "metadata": {},
   "outputs": [
    {
     "data": {
      "image/png": "[encoded data removed]",
      "text/plain": [
       "<Figure size 432x288 with 1 Axes>"
      ]
     },
     "metadata": {
      "needs_background": "light"
     },
     "output_type": "display_data"
    }
   ],
   "source": [
    "# Bar chart of Academics sex\n",
    "salary.sx.value_counts().plot(kind='bar');\n",
    "plt.xticks(rotation=0);\n",
    "plt.xlabel('Sex');\n",
    "plt.ylabel('Frequency');\n",
    "plt.title('Academics Gender Distibution', color = 'black', fontsize = 12);"
   ]
  },
  {
   "cell_type": "code",
   "execution_count": 46,
   "metadata": {},
   "outputs": [
    {
     "data": {
      "image/png": "[encoded data removed]",
      "text/plain": [
       "<Figure size 432x288 with 1 Axes>"
      ]
     },
     "metadata": {
      "needs_background": "light"
     },
     "output_type": "display_data"
    }
   ],
   "source": [
    "# Bar chart of Academics Ranks\n",
    "salary.rk.value_counts().plot(kind='bar');\n",
    "plt.xticks(rotation=0);\n",
    "plt.xlabel('Ranks');\n",
    "plt.ylabel('Frequency');\n",
    "plt.title('Academics Ranks Distibution', color = 'black', fontsize = 12);"
   ]
  },
  {
   "cell_type": "code",
   "execution_count": 47,
   "metadata": {},
   "outputs": [
    {
     "data": {
      "image/png": "[encoded data removed]",
      "text/plain": [
       "<Figure size 432x288 with 1 Axes>"
      ]
     },
     "metadata": {
      "needs_background": "light"
     },
     "output_type": "display_data"
    }
   ],
   "source": [
    "# Bar chart of Academics Degress\n",
    "salary.dg.value_counts().plot(kind='bar');\n",
    "plt.xticks(rotation=0);\n",
    "plt.xlabel('Degrees');\n",
    "plt.ylabel('Frequency');\n",
    "plt.title('Academics Qualifications Distibution', color = 'black', fontsize = 12);"
   ]
  },
  {
   "cell_type": "code",
   "execution_count": 49,
   "metadata": {},
   "outputs": [
    {
     "data": {
      "image/png": "[encoded data removed]",
      "text/plain": [
       "<Figure size 432x288 with 1 Axes>"
      ]
     },
     "metadata": {
      "needs_background": "light"
     },
     "output_type": "display_data"
    }
   ],
   "source": [
    "# Average salary of academics based on their rank\n",
    "salary.groupby('rk').mean()['sl'].plot(kind=\"bar\");\n",
    "plt.xticks(rotation=0);\n",
    "plt.xlabel('Ranks');\n",
    "plt.ylabel('Salary');\n",
    "plt.title('Academics Salary based on their Ranks', color = 'black', fontsize = 12);"
   ]
  },
  {
   "cell_type": "code",
   "execution_count": null,
   "metadata": {},
   "outputs": [],
   "source": [
    "# Average years of service and years since last degree of academics based on their rank\n",
    "salary.groupby('rk').mean()[['yr','yd']].plot(kind=\"bar\");\n",
    "plt.xticks(rotation=0);\n",
    "plt.xlabel('Ranks');\n",
    "plt.title('Academics Years of Service and \\n Years since Last Degree based on their Ranks', color = 'black', fontsize = 12);"
   ]
  },
  {
   "cell_type": "markdown",
   "metadata": {},
   "source": [
    "#### `4c. Which are continuous?`\n",
    "salary (sl) is the only continues variable in the dataset."
   ]
  },
  {
   "cell_type": "markdown",
   "metadata": {},
   "source": [
    "#### `4c. Are any ordinal?`\n",
    "rank (rk) and degree (dg) are ordinal variables."
   ]
  },
  {
   "cell_type": "markdown",
   "metadata": {},
   "source": [
    "#### `4d. BONUS: Include the skew of each continuous variable distribution in the title of the plot.`"
   ]
  },
  {
   "cell_type": "code",
   "execution_count": null,
   "metadata": {},
   "outputs": [],
   "source": [
    "# Understand the distribution in salary variable\n",
    "salary['sl'].agg(['min', 'max','mean', 'median', 'skew', 'kurt', 'std'])"
   ]
  },
  {
   "cell_type": "code",
   "execution_count": null,
   "metadata": {},
   "outputs": [],
   "source": [
    "# Histogram of Salary Distibution including the skew function\n",
    "bins = salary.sl.plot(kind='hist', bins=15, facecolor='blue', alpha=0.5, edgecolor='black', linewidth=0.75);\n",
    "plt.xlabel('Salary');\n",
    "plt.ylabel('Frequency');\n",
    "plt.title(\"The skew of Salary Distibution is {0:0.3f}\".format(salary['sl'].skew()), color = 'black',fontsize = 12);"
   ]
  },
  {
   "cell_type": "markdown",
   "metadata": {},
   "source": [
    "#### `5. Visualize the relationships between series or columns in your dataframe.`\n",
    "- `What type or types of plots are most appropriate here?`\n",
    "\n",
    "    To address the relationship between two numerical variables, we can use scatterplot. "
   ]
  },
  {
   "cell_type": "markdown",
   "metadata": {},
   "source": [
    "#### `5a.`"
   ]
  },
  {
   "cell_type": "code",
   "execution_count": null,
   "metadata": {},
   "outputs": [],
   "source": [
    "# Relationship between salary and years of service\n",
    "salary.plot(kind='scatter', x='sl', y='yr');\n",
    "plt.xlabel('Salary');\n",
    "plt.ylabel('Years of Service');\n",
    "plt.title(\"Relationship between Salary and Years of Service\", color = 'black',fontsize = 12);"
   ]
  },
  {
   "cell_type": "markdown",
   "metadata": {},
   "source": [
    "#### `5b.`"
   ]
  },
  {
   "cell_type": "code",
   "execution_count": null,
   "metadata": {},
   "outputs": [],
   "source": [
    "# Relationship between salary and years since last Degree\n",
    "salary.plot(kind='scatter', x='sl', y='yd');\n",
    "plt.xlabel('Salary');\n",
    "plt.ylabel('Years since last Degree');\n",
    "plt.title(\"Relationship between Salary and Years since Last Degree\", color = 'black',fontsize = 12);"
   ]
  },
  {
   "cell_type": "markdown",
   "metadata": {},
   "source": [
    "#### `5c.`"
   ]
  },
  {
   "cell_type": "code",
   "execution_count": 50,
   "metadata": {},
   "outputs": [
    {
     "data": {
      "image/png": "[encoded data removed]",
      "text/plain": [
       "<Figure size 432x288 with 2 Axes>"
      ]
     },
     "metadata": {
      "needs_background": "light"
     },
     "output_type": "display_data"
    }
   ],
   "source": [
    "# Relationship between Years since Last Degree and Years of Service, \n",
    "# Vary point color by salary \n",
    "marker_size=15\n",
    "plt.scatter(salary['yr'], salary['yd'], marker_size, c=salary['sl']);\n",
    "plt.title(\"Relationship between\\n Years since Last Degree and Years of Service\", color = 'black',fontsize = 12);\n",
    "plt.xlabel(\"Years of Service\");\n",
    "plt.ylabel(\"Years since last Degree\");\n",
    "cbar= plt.colorbar()\n",
    "cbar.set_label(\"Salary\", labelpad=+6);\n",
    "plt.show();"
   ]
  },
  {
   "cell_type": "code",
   "execution_count": null,
   "metadata": {},
   "outputs": [],
   "source": [
    "# As we have small dataset, we may be able to see all the relations between numerical variables\n",
    "sns.pairplot(salary);"
   ]
  },
  {
   "cell_type": "markdown",
   "metadata": {},
   "source": [
    "We can also use cat plots to visualize categrical variables."
   ]
  },
  {
   "cell_type": "code",
   "execution_count": 48,
   "metadata": {},
   "outputs": [
    {
     "data": {
      "image/png": "[encoded data removed]",
      "text/plain": [
       "<Figure size 430.5x360 with 1 Axes>"
      ]
     },
     "metadata": {
      "needs_background": "light"
     },
     "output_type": "display_data"
    }
   ],
   "source": [
    "# Acadmics salary based in their rank and gender\n",
    "ax = sns.catplot(x=\"rk\", y=\"sl\", data=salary, hue=\"sx\", kind=\"swarm\");\n",
    "ax.set_axis_labels('Academics Ranks', 'Salary');\n",
    "ax._legend.set_title('Sex')\n",
    "plt.subplots_adjust(top=0.9)\n",
    "ax.fig.suptitle('Acadmics salary based in their rank and gender');"
   ]
  },
  {
   "cell_type": "code",
   "execution_count": null,
   "metadata": {},
   "outputs": [],
   "source": [
    "# Master and doctoral academics salary based on their rank and gender\n",
    "ax = sns.catplot(x=\"rk\", y=\"sl\", col=\"dg\" ,data=salary, hue=\"sx\", jitter=False);\n",
    "ax.set_axis_labels('Academics Ranks', 'Salary');\n",
    "ax._legend.set_title('Sex');"
   ]
  },
  {
   "cell_type": "markdown",
   "metadata": {},
   "source": [
    "#### `5d. Save at least one plot as a png file.`"
   ]
  },
  {
   "cell_type": "code",
   "execution_count": null,
   "metadata": {},
   "outputs": [],
   "source": [
    "# Saving last plot to a file\n",
    "ax = sns.catplot(x=\"rk\", y=\"sl\", col=\"dg\" ,data=salary, hue=\"sx\", jitter=False);\n",
    "ax.set_axis_labels('Academics Ranks', 'Salary');\n",
    "ax._legend.set_title('Sex');\n",
    "plt.savefig('Degree_Ranks_Salary.png');    # Save to file!"
   ]
  },
  {
   "cell_type": "markdown",
   "metadata": {},
   "source": [
    "#### `6. Check for correlation between variables in your dataframe.`"
   ]
  },
  {
   "cell_type": "code",
   "execution_count": null,
   "metadata": {},
   "outputs": [],
   "source": [
    "# Change categrical variables into numerical using get_dummy\n",
    "salary = pd.get_dummies(salary, columns=['sx', 'dg', 'rk'])\n",
    "salary.head()"
   ]
  },
  {
   "cell_type": "code",
   "execution_count": null,
   "metadata": {},
   "outputs": [],
   "source": [
    "salary.corr()"
   ]
  },
  {
   "cell_type": "markdown",
   "metadata": {},
   "source": [
    "**- `Explain in a comment or in markdown form which variables have strong correlation and which have weak correlation`**\n",
    "    \n",
    "    From the correlation table above, we can look for variables that have a high coorelation number.\n",
    "    \n",
    " I selected the **five** highest ones that have a correlation number above 0.5:\n",
    "    \n",
    "    - Full professor and salray have a corrolation of 0.76\n",
    "    - Years of service and salary have a corrolation of 0.67\n",
    "    - Years since last degree and salary have a corrolation of 0.66\n",
    "    - Years since last degree and years of service have a corrolation of 0.63\n",
    "    - Full professor and years since last degree have a corrolation of 0.54\n",
    "    \n",
    " As for the weak correlations, we can see the top **five** weak ones below:\n",
    "    \n",
    "    - Assistant professor and salary have a corrolation of -0.75\n",
    "    - Assistant professor and years since last degree have a corrolation of -0.66\n",
    "    - Full professor and assistant professor have a corrolation of -0.54\n",
    "    - Full professor and associate professor have a corrolation of -0.52\n",
    "    - Doctoral holders and years since last degree have a corrolation of -0.42\n",
    "     "
   ]
  },
  {
   "cell_type": "markdown",
   "metadata": {},
   "source": [
    "#### - `Why might this matter?`\n",
    "\n",
    "    1. It gives us more insights about the dataset and how are variables related to each other.\n",
    "    2. It helps us in the prediction model later to better select the variables that have strong correlation."
   ]
  },
  {
   "cell_type": "markdown",
   "metadata": {},
   "source": [
    "#### `7. Now visualize that correlation output:`"
   ]
  },
  {
   "cell_type": "code",
   "execution_count": null,
   "metadata": {},
   "outputs": [],
   "source": [
    "# The correlation heatmap\n",
    "plt.subplots(figsize=(6,6))\n",
    "plt.title(\"Correlation\", color = 'black',fontsize = 12)\n",
    "sns.heatmap(salary.corr(), vmin=-1, vmax=1, annot=True, fmt='.2f', \n",
    "            cmap= 'Blues', linewidths=0.2, linecolor='black');"
   ]
  },
  {
   "cell_type": "markdown",
   "metadata": {},
   "source": [
    "#### `8. Write up a paragraph or two to explain the plot choices you made earlier in the notebook.`\n",
    "- `Additionally, explain what you've learned about this dataset comparing salary data across gender and tenure lines for academics.`\n",
    "- `Remember the line from the instructions: \"Does your plot have a story? What should a reader take away from your plots?\"`"
   ]
  },
  {
   "cell_type": "markdown",
   "metadata": {},
   "source": [
    "**Plot Choices**\n",
    "\n",
    "Plots have been chosen based on **(1)** variables types and **(2)** the message to be said. For numerical variables, I chose histogram and boxplot to better show the distribution of the variables. For categrical variables, I chose bar chart to show the frequency of each group of values in the variable.\n",
    "\n",
    "Then to start getting sense of the relationship between the variables, I chose bar chart, scatter plot, pair plot, cat plot, and heatmap. \n",
    "\n",
    "To see the average of each group in the categorical variables compared to the numerical variables, I used the group by and mean functions with bar char. Things started to get interesting at this stage, so I created a couple of scatter plots to visualize the relationships between the numerical variables, and a pair plot to visualize every relationship between every pair of variables.\n",
    "\n",
    "As for the cat polt, I chose the one with the properties that combines the view of scatter plots in its circles/volumes and bar chart in its organization. I was able to visualize multiple variables in one cat plot, thus showing more interesting results. Using this kind of plot helps me discover that gender and academic degrees don't have special relationships with salary which the heatmap plot later proves that too.\n",
    "\n",
    "Then to see the correlation between all numerical variables in the dataset, I changed the categrial variables to numerical ones using get_dummy funtion to be able to visualize all the features using heatmap plot.\n",
    "\n",
    "Through all the figures that need numerical variables, I tried to separate the salary from others as it has different range than them thus affecting the overal visualization.\n",
    "\n",
    "Also, I made some search regarding the best visualization plots for represting numerical or categrical variables to help me better decide which kind of plot to use."
   ]
  },
  {
   "cell_type": "markdown",
   "metadata": {},
   "source": [
    "**What I have Learned from Salary Dataset?**\n",
    "\n",
    "Although the dataset is complete; no null values, its numerical variables distributions don't show anomalous results, and we can see some indicators about some relations between variables, the final step we reached out to doesn't seem to be very promising for the next steps (modeling) as we don't have alot of interesting relationships with salary based on the correlation numbers. \n",
    "\n",
    "We may have seen that full professor has a correlation of 0.76 with salary which is a high number compared with everything else; however, it raises a question why asoociate and assistant professors don't have a notable relationship with salary though we can see the gradual increase between the three ranks?\n",
    "\n",
    "It might be the reason that we don't have enough data, we need to collect more data; this dataset has only 57 observations which is a small number if we want to build, train, and test a model based on it."
   ]
  },
  {
   "cell_type": "markdown",
   "metadata": {},
   "source": [
    "- Salary Data Visualization Assignement\n",
    "- Solved and Submitted by Arwa Alamoudi - 12/4/2020"
   ]
  }
 ],
 "metadata": {
  "kernelspec": {
   "display_name": "Python 3",
   "language": "python",
   "name": "python3"
  },
  "language_info": {
   "codemirror_mode": {
    "name": "ipython",
    "version": 3
   },
   "file_extension": ".py",
   "mimetype": "text/x-python",
   "name": "python",
   "nbconvert_exporter": "python",
   "pygments_lexer": "ipython3",
   "version": "3.7.6"
  }
 },
 "nbformat": 4,
 "nbformat_minor": 2
}
